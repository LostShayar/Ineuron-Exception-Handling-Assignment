{
 "cells": [
  {
   "cell_type": "markdown",
   "id": "f7a07117",
   "metadata": {},
   "source": [
    "#    Exception Handling Assignment"
   ]
  },
  {
   "cell_type": "markdown",
   "id": "f2c5cb45",
   "metadata": {},
   "source": [
    "### 1. Write a function to compute 5/0 and use try/except to catch the exceptions."
   ]
  },
  {
   "cell_type": "markdown",
   "id": "37a939ee",
   "metadata": {},
   "source": [
    "#### Solution: "
   ]
  },
  {
   "cell_type": "code",
   "execution_count": 21,
   "id": "b96e79a2",
   "metadata": {},
   "outputs": [
    {
     "name": "stdout",
     "output_type": "stream",
     "text": [
      "An interger/number cannot be divisible by Zero\n",
      "An execption has been occured while trying to divide an integer 5 with Zero\n"
     ]
    }
   ],
   "source": [
    "def divide_by_zero():\n",
    "    return 5/0\n",
    "    '''This function will raise an Exception,if you are trying to divide an integer with Zero'''\n",
    "\n",
    "try:\n",
    "    5/0\n",
    "except ZeroDivisionError as ze:\n",
    "    print(\"An interger/number cannot be divisible by Zero\")\n",
    "    print(\"An execption has been occured while trying to divide an integer 5 with Zero\")\n"
   ]
  },
  {
   "cell_type": "markdown",
   "id": "1c84d807",
   "metadata": {},
   "source": [
    "### 2. Implement a Python program to generate all sentences where subject is in \n",
    "#### [\"Americans\", \"Indians\"] and verb is in [\"Play\", \"watch\"] and the object is in [\"Baseball\",\"cricket\"].\n",
    "\n",
    "#### Hint: Subject,Verb and Object should be declared in the program as shown below.\n",
    "\n",
    "#### subjects=[\"Americans \",\"Indians\"]\n",
    "\n",
    "#### verbs=[\"play\",\"watch\"]\n",
    "\n",
    "#### objects=[\"Baseball\",\"Cricket\""
   ]
  },
  {
   "cell_type": "markdown",
   "id": "1a9fdcf5",
   "metadata": {},
   "source": [
    "#### Solution:"
   ]
  },
  {
   "cell_type": "code",
   "execution_count": 22,
   "id": "c86584af",
   "metadata": {},
   "outputs": [
    {
     "name": "stdout",
     "output_type": "stream",
     "text": [
      "Output:\n",
      "Americans play Baseball.\n",
      "Americans play Cricket.\n",
      "Americans watch Baseball.\n",
      "Americans watch Cricket.\n",
      "Indians play Baseball.\n",
      "Indians play Cricket.\n",
      "Indians watch Baseball.\n",
      "Indians watch Cricket.\n"
     ]
    }
   ],
   "source": [
    "subject=[\"Americans\",\"Indians\"]\n",
    "verb=[\"play\",\"watch\"]\n",
    "objects=[\"Baseball\",\"Cricket\"]\n",
    "\n",
    "# List Comprehension\n",
    "Syntax = [(Sub+' '+vrb+' '+Obj+\".\") for Sub in subject for vrb in verb for Obj in objects]\n",
    "\n",
    "#for Loop for Iteration\n",
    "print(\"Output:\")\n",
    "\n",
    "for syn in Syntax:    \n",
    "    print(syn)"
   ]
  },
  {
   "cell_type": "code",
   "execution_count": null,
   "id": "65091a02",
   "metadata": {},
   "outputs": [],
   "source": []
  }
 ],
 "metadata": {
  "kernelspec": {
   "display_name": "Python 3",
   "language": "python",
   "name": "python3"
  },
  "language_info": {
   "codemirror_mode": {
    "name": "ipython",
    "version": 3
   },
   "file_extension": ".py",
   "mimetype": "text/x-python",
   "name": "python",
   "nbconvert_exporter": "python",
   "pygments_lexer": "ipython3",
   "version": "3.8.8"
  }
 },
 "nbformat": 4,
 "nbformat_minor": 5
}
